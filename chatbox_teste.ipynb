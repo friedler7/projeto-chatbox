{
  "nbformat": 4,
  "nbformat_minor": 0,
  "metadata": {
    "colab": {
      "provenance": [],
      "authorship_tag": "ABX9TyN1Od5C1BqOxYYR55TWgg7D",
      "include_colab_link": true
    },
    "kernelspec": {
      "name": "python3",
      "display_name": "Python 3"
    },
    "language_info": {
      "name": "python"
    }
  },
  "cells": [
    {
      "cell_type": "markdown",
      "metadata": {
        "id": "view-in-github",
        "colab_type": "text"
      },
      "source": [
        "<a href=\"https://colab.research.google.com/github/friedler7/projeto-chatbox/blob/main/chatbox_teste.ipynb\" target=\"_parent\"><img src=\"https://colab.research.google.com/assets/colab-badge.svg\" alt=\"Open In Colab\"/></a>"
      ]
    },
    {
      "cell_type": "code",
      "execution_count": 1,
      "metadata": {
        "id": "RmzdoKogWMEn"
      },
      "outputs": [],
      "source": [
        "!pip install -q -U google-generativeai"
      ]
    },
    {
      "cell_type": "code",
      "source": [
        "\n",
        "import google.generativeai as genai\n",
        "\n",
        "\n",
        "GOOGLE_API_KEY='sua API'\n",
        "genai.configure(api_key=GOOGLE_API_KEY)"
      ],
      "metadata": {
        "id": "akvcdBO7aBR-"
      },
      "execution_count": 3,
      "outputs": []
    },
    {
      "cell_type": "code",
      "source": [
        "for m in genai.list_models():\n",
        "  if 'generateContent'in m.supported_generation_methods:\n",
        "    print(m.name)"
      ],
      "metadata": {
        "colab": {
          "base_uri": "https://localhost:8080/",
          "height": 139
        },
        "id": "hSseMqd8aHXA",
        "outputId": "0e1f7068-9c9f-477a-a7cc-ea3d311728c7"
      },
      "execution_count": 4,
      "outputs": [
        {
          "output_type": "stream",
          "name": "stdout",
          "text": [
            "models/gemini-1.0-pro\n",
            "models/gemini-1.0-pro-001\n",
            "models/gemini-1.0-pro-latest\n",
            "models/gemini-1.0-pro-vision-latest\n",
            "models/gemini-1.5-pro-latest\n",
            "models/gemini-pro\n",
            "models/gemini-pro-vision\n"
          ]
        }
      ]
    },
    {
      "cell_type": "code",
      "source": [
        "generation_config = {\n",
        "    \"candidate_count\": 1,\n",
        "    \"temperature\": 0.5,\n",
        "\n",
        "}"
      ],
      "metadata": {
        "id": "9ZCKVekjb7ys"
      },
      "execution_count": 5,
      "outputs": []
    },
    {
      "cell_type": "code",
      "source": [
        "safety_settings= {\n",
        "  \"Harassment\": \"block_none\",\n",
        "  \"hate\":  \"block_none\",\n",
        "  \"sexual\": \"block_none\",\n",
        "  \"dangerous\": \"block_none\",\n",
        "}"
      ],
      "metadata": {
        "id": "H1lmvUWTcpeT"
      },
      "execution_count": 10,
      "outputs": []
    },
    {
      "cell_type": "code",
      "source": [
        "model = genai.GenerativeModel(model_name=\"gemini-1.0-pro\",\n",
        "                              generation_config=generation_config,\n",
        "                              safety_settings=safety_settings)\n"
      ],
      "metadata": {
        "id": "N5fVGXq-dix6"
      },
      "execution_count": 11,
      "outputs": []
    },
    {
      "cell_type": "code",
      "source": [
        "response = model.generate_content(\"me conte mais sobre Roger Federer\")\n",
        "print(response.text)"
      ],
      "metadata": {
        "colab": {
          "base_uri": "https://localhost:8080/",
          "height": 818
        },
        "id": "nOg7bUbWfB63",
        "outputId": "bcaf2f73-194f-4bfb-cdac-6159206373d2"
      },
      "execution_count": 12,
      "outputs": [
        {
          "output_type": "stream",
          "name": "stdout",
          "text": [
            "**Biografia**\n",
            "\n",
            "* Nome completo: Roger Federer\n",
            "* Data de nascimento: 8 de agosto de 1981\n",
            "* Local de nascimento: Basileia, Suíça\n",
            "* Residência: Wollerau, Suíça\n",
            "* Altura: 1,85 m\n",
            "* Peso: 85 kg\n",
            "* Mão dominante: Direita\n",
            "* Backhand: Duas mãos\n",
            "\n",
            "**Carreira**\n",
            "\n",
            "* Profissional desde: 1998\n",
            "* Aposentado: 23 de setembro de 2022\n",
            "* Treinadores: Peter Carter (1994-2002), Tony Roche (2005-2007), Severin Lüthi (2008-2022)\n",
            "\n",
            "**Títulos de Grand Slam**\n",
            "\n",
            "* Aberto da Austrália: 6 (2004, 2006, 2007, 2010, 2017, 2018)\n",
            "* Roland Garros: 1 (2009)\n",
            "* Wimbledon: 8 (2003, 2004, 2005, 2006, 2007, 2009, 2012, 2017)\n",
            "* US Open: 5 (2004, 2005, 2006, 2007, 2008)\n",
            "\n",
            "**Outros Títulos Significativos**\n",
            "\n",
            "* ATP Finals: 6 (2003, 2004, 2006, 2007, 2010, 2011)\n",
            "* Masters 1000: 28\n",
            "* Jogos Olímpicos: Medalha de ouro em duplas (2008)\n",
            "\n",
            "**Recordes**\n",
            "\n",
            "* Mais semanas como número 1 do ranking mundial: 237\n",
            "* Mais títulos de Grand Slam por um tenista masculino: 20\n",
            "* Mais títulos de Wimbledon por um tenista masculino: 8\n",
            "* Único tenista masculino a vencer 3 Grand Slams consecutivos em 2 ocasiões\n",
            "* Único tenista masculino a vencer 5 Grand Slams consecutivos\n",
            "\n",
            "**Estilo de Jogo**\n",
            "\n",
            "Federer é conhecido por seu estilo de jogo elegante e versátil. Ele possui um forehand poderoso e preciso, um backhand de duas mãos sólido e um saque eficaz. Ele também é um excelente voleador e tem um excelente toque na rede.\n",
            "\n",
            "**Legado**\n",
            "\n",
            "Roger Federer é amplamente considerado um dos maiores tenistas de todos os tempos. Ele detém vários recordes, incluindo o maior número de títulos de Grand Slam por um tenista masculino e o maior número de semanas como número 1 do mundo. Seu estilo de jogo elegante e sua personalidade carismática o tornaram um dos atletas mais populares do mundo.\n"
          ]
        }
      ]
    },
    {
      "cell_type": "code",
      "source": [
        "chat = model.start_chat(history=[])"
      ],
      "metadata": {
        "id": "qMD6vHN3fiVf"
      },
      "execution_count": 13,
      "outputs": []
    },
    {
      "cell_type": "code",
      "source": [
        "prompt = input(\"escreva o que quiser... e eu respondo\")\n",
        "\n",
        "while prompt != \"fim\":\n",
        "  response = chat.send_message(prompt)\n",
        "  print(\"resposta: \", response.text, \"\\n\")\n",
        "  prompt = input(\"escreva o que quiser...\")"
      ],
      "metadata": {
        "colab": {
          "base_uri": "https://localhost:8080/",
          "height": 382
        },
        "id": "EjwzidFwf50e",
        "outputId": "5e88d3d9-fd08-4fa0-dcbd-c3e91e6e84e7"
      },
      "execution_count": 20,
      "outputs": [
        {
          "name": "stdout",
          "output_type": "stream",
          "text": [
            "escreva o que quiser... e eu respondoteste\n",
            "resposta:  Entendido. Aqui está um teste sobre a cidade de Jerusalém:\n",
            "\n",
            "**Pergunta 1:** Qual é a capital de Israel?\n",
            "**Resposta:** Jerusalém\n",
            "\n",
            "**Pergunta 2:** Qual é a comida típica de Israel?\n",
            "**Resposta:** Falafel\n",
            "\n",
            "**Pergunta 3:** Qual é a nacionalidade de alguém nascido em Jerusalém?\n",
            "**Resposta:** Israelense\n",
            "\n",
            "**Pergunta 4:** Qual é a população atual de Jerusalém?\n",
            "**Resposta:** 936.044 (2022)\n",
            "\n",
            "**Pergunta 5:** Em que continente Jerusalém está localizada?\n",
            "**Resposta:** Ásia\n",
            "\n",
            "Você respondeu corretamente a todas as perguntas. Parabéns! \n",
            "\n",
            "escreva o que quiser...fim\n"
          ]
        }
      ]
    },
    {
      "cell_type": "code",
      "source": [
        "chat\n",
        "\n",
        "chat.history"
      ],
      "metadata": {
        "colab": {
          "base_uri": "https://localhost:8080/"
        },
        "id": "tphunkc5iyO1",
        "outputId": "aa481268-ede9-4370-ff54-fb5c80167d57"
      },
      "execution_count": 19,
      "outputs": [
        {
          "output_type": "execute_result",
          "data": {
            "text/plain": [
              "[parts {\n",
              "   text: \"qual a capital de israel?\"\n",
              " }\n",
              " role: \"user\",\n",
              " parts {\n",
              "   text: \"Jerusal\\303\\251m\"\n",
              " }\n",
              " role: \"model\",\n",
              " parts {\n",
              "   text: \"qual a comida tipica deste pais?\"\n",
              " }\n",
              " role: \"user\",\n",
              " parts {\n",
              "   text: \"Falafel\"\n",
              " }\n",
              " role: \"model\",\n",
              " parts {\n",
              "   text: \"meu primo nasceu nessa cidade, qual e a nacionalidade dele?\"\n",
              " }\n",
              " role: \"user\",\n",
              " parts {\n",
              "   text: \"Israelense\"\n",
              " }\n",
              " role: \"model\",\n",
              " parts {\n",
              "   text: \"qual a populacao desta cidade?\"\n",
              " }\n",
              " role: \"user\",\n",
              " parts {\n",
              "   text: \"936.044 (2022)\"\n",
              " }\n",
              " role: \"model\"]"
            ]
          },
          "metadata": {},
          "execution_count": 19
        }
      ]
    },
    {
      "cell_type": "markdown",
      "source": [],
      "metadata": {
        "id": "-WVPsCm4ix8Z"
      }
    },
    {
      "cell_type": "code",
      "source": [
        "#Melhorando a visualização\n",
        "#Código disponível em https://ai.google.dev/tutorials/python_quickstart#import_packages\n",
        "import textwrap\n",
        "from IPython.display import display\n",
        "from IPython.display import Markdown\n",
        "\n",
        "def to_markdown(text):\n",
        "  text = text.replace('•', '  *')\n",
        "  return Markdown(textwrap.indent(text, '> ', predicate=lambda _: True))\n",
        "\n",
        "#Imprimindo o histórico\n",
        "for message in chat.history:\n",
        "  display(to_markdown(f'**{message.role}**: {message.parts[0].text}'))\n",
        "  print('-------------------------------------------')"
      ],
      "metadata": {
        "colab": {
          "base_uri": "https://localhost:8080/",
          "height": 519
        },
        "id": "3KUx5eQtiV2u",
        "outputId": "a64ebfaf-b14a-465e-b561-8e42ea03486b"
      },
      "execution_count": 17,
      "outputs": [
        {
          "output_type": "display_data",
          "data": {
            "text/plain": [
              "<IPython.core.display.Markdown object>"
            ],
            "text/markdown": "> **user**: qual a capital de israel?"
          },
          "metadata": {}
        },
        {
          "output_type": "stream",
          "name": "stdout",
          "text": [
            "-------------------------------------------\n"
          ]
        },
        {
          "output_type": "display_data",
          "data": {
            "text/plain": [
              "<IPython.core.display.Markdown object>"
            ],
            "text/markdown": "> **model**: Jerusalém"
          },
          "metadata": {}
        },
        {
          "output_type": "stream",
          "name": "stdout",
          "text": [
            "-------------------------------------------\n"
          ]
        },
        {
          "output_type": "display_data",
          "data": {
            "text/plain": [
              "<IPython.core.display.Markdown object>"
            ],
            "text/markdown": "> **user**: qual a comida tipica deste pais?"
          },
          "metadata": {}
        },
        {
          "output_type": "stream",
          "name": "stdout",
          "text": [
            "-------------------------------------------\n"
          ]
        },
        {
          "output_type": "display_data",
          "data": {
            "text/plain": [
              "<IPython.core.display.Markdown object>"
            ],
            "text/markdown": "> **model**: Falafel"
          },
          "metadata": {}
        },
        {
          "output_type": "stream",
          "name": "stdout",
          "text": [
            "-------------------------------------------\n"
          ]
        },
        {
          "output_type": "display_data",
          "data": {
            "text/plain": [
              "<IPython.core.display.Markdown object>"
            ],
            "text/markdown": "> **user**: meu primo nasceu nessa cidade, qual e a nacionalidade dele?"
          },
          "metadata": {}
        },
        {
          "output_type": "stream",
          "name": "stdout",
          "text": [
            "-------------------------------------------\n"
          ]
        },
        {
          "output_type": "display_data",
          "data": {
            "text/plain": [
              "<IPython.core.display.Markdown object>"
            ],
            "text/markdown": "> **model**: Israelense"
          },
          "metadata": {}
        },
        {
          "output_type": "stream",
          "name": "stdout",
          "text": [
            "-------------------------------------------\n"
          ]
        },
        {
          "output_type": "display_data",
          "data": {
            "text/plain": [
              "<IPython.core.display.Markdown object>"
            ],
            "text/markdown": "> **user**: qual a populacao desta cidade?"
          },
          "metadata": {}
        },
        {
          "output_type": "stream",
          "name": "stdout",
          "text": [
            "-------------------------------------------\n"
          ]
        },
        {
          "output_type": "display_data",
          "data": {
            "text/plain": [
              "<IPython.core.display.Markdown object>"
            ],
            "text/markdown": "> **model**: 936.044 (2022)"
          },
          "metadata": {}
        },
        {
          "output_type": "stream",
          "name": "stdout",
          "text": [
            "-------------------------------------------\n"
          ]
        }
      ]
    }
  ]
}